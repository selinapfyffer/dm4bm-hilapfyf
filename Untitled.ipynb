{
 "cells": [
  {
   "cell_type": "markdown",
   "id": "2ee505bf-014d-467b-a85b-4676917e4c36",
   "metadata": {},
   "source": [
    "# Test 1"
   ]
  },
  {
   "cell_type": "code",
   "execution_count": 1,
   "id": "f74d97aa-d697-4add-a18a-50bcfcd93d65",
   "metadata": {},
   "outputs": [],
   "source": [
    "import numpy as np\n",
    "import pandas as pd\n",
    "import matplotlib.pyplot as plt\n",
    "import dm4bem\n"
   ]
  },
  {
   "cell_type": "code",
   "execution_count": 2,
   "id": "ee600561-3b31-43ba-8812-010db5c17584",
   "metadata": {},
   "outputs": [],
   "source": [
    "l = 3               # m length of the cubic room\n",
    "b = 3\n",
    "h = 2.5\n",
    "Va = l*b*h   \n",
    "Sc = Si = 2*l*b+2*b*h+2*l*h  # m² surface of concrete & insulation of the 5 walls"
   ]
  },
  {
   "cell_type": "code",
   "execution_count": 3,
   "id": "d26c322c-b12f-42db-856a-3c97329bc7aa",
   "metadata": {},
   "outputs": [
    {
     "data": {
      "text/html": [
       "<div>\n",
       "<style scoped>\n",
       "    .dataframe tbody tr th:only-of-type {\n",
       "        vertical-align: middle;\n",
       "    }\n",
       "\n",
       "    .dataframe tbody tr th {\n",
       "        vertical-align: top;\n",
       "    }\n",
       "\n",
       "    .dataframe thead th {\n",
       "        text-align: right;\n",
       "    }\n",
       "</style>\n",
       "<table border=\"1\" class=\"dataframe\">\n",
       "  <thead>\n",
       "    <tr style=\"text-align: right;\">\n",
       "      <th></th>\n",
       "      <th>Density</th>\n",
       "      <th>Specific heat</th>\n",
       "    </tr>\n",
       "  </thead>\n",
       "  <tbody>\n",
       "    <tr>\n",
       "      <th>Air</th>\n",
       "      <td>1.2</td>\n",
       "      <td>1000</td>\n",
       "    </tr>\n",
       "  </tbody>\n",
       "</table>\n",
       "</div>"
      ],
      "text/plain": [
       "     Density  Specific heat\n",
       "Air      1.2           1000"
      ]
     },
     "execution_count": 3,
     "metadata": {},
     "output_type": "execute_result"
    }
   ],
   "source": [
    "air = {'Density': 1.2,                      # kg/m³\n",
    "       'Specific heat': 1000}               # J/(kg·K)\n",
    "# pd.DataFrame.from_dict(air, orient='index', columns=['air'])\n",
    "pd.DataFrame(air, index=['Air'])"
   ]
  },
  {
   "cell_type": "code",
   "execution_count": 4,
   "id": "aead4af8-7a2f-4c0a-adcc-d6405b9b56c1",
   "metadata": {},
   "outputs": [
    {
     "data": {
      "text/html": [
       "<div>\n",
       "<style scoped>\n",
       "    .dataframe tbody tr th:only-of-type {\n",
       "        vertical-align: middle;\n",
       "    }\n",
       "\n",
       "    .dataframe tbody tr th {\n",
       "        vertical-align: top;\n",
       "    }\n",
       "\n",
       "    .dataframe thead th {\n",
       "        text-align: right;\n",
       "    }\n",
       "</style>\n",
       "<table border=\"1\" class=\"dataframe\">\n",
       "  <thead>\n",
       "    <tr style=\"text-align: right;\">\n",
       "      <th></th>\n",
       "      <th>Conductivity</th>\n",
       "      <th>Density</th>\n",
       "      <th>Specific heat</th>\n",
       "      <th>Width</th>\n",
       "      <th>Surface</th>\n",
       "      <th>Slices</th>\n",
       "    </tr>\n",
       "  </thead>\n",
       "  <tbody>\n",
       "    <tr>\n",
       "      <th>Concrete</th>\n",
       "      <td>1.400</td>\n",
       "      <td>2300</td>\n",
       "      <td>880</td>\n",
       "      <td>0.20</td>\n",
       "      <td>48.0</td>\n",
       "      <td>1</td>\n",
       "    </tr>\n",
       "    <tr>\n",
       "      <th>Insulation</th>\n",
       "      <td>0.027</td>\n",
       "      <td>55</td>\n",
       "      <td>1210</td>\n",
       "      <td>0.08</td>\n",
       "      <td>48.0</td>\n",
       "      <td>1</td>\n",
       "    </tr>\n",
       "  </tbody>\n",
       "</table>\n",
       "</div>"
      ],
      "text/plain": [
       "            Conductivity  Density  Specific heat  Width  Surface  Slices\n",
       "Concrete           1.400     2300            880   0.20     48.0       1\n",
       "Insulation         0.027       55           1210   0.08     48.0       1"
      ]
     },
     "execution_count": 4,
     "metadata": {},
     "output_type": "execute_result"
    }
   ],
   "source": [
    "wall = {'Conductivity': [1.4, 0.027],  # W/(m·K)\n",
    "        'Density': [2300, 55],        # kg/m³\n",
    "        'Specific heat': [880, 1210],  # J/(kg·K)\n",
    "        'Width': [0.2, 0.08],\n",
    "        'Surface': [Sc, Si],  # m²\n",
    "        'Slices': [1, 1]}                # number of  slices\n",
    "wall = pd.DataFrame(wall, index=['Concrete', 'Insulation'])\n",
    "wall"
   ]
  },
  {
   "cell_type": "code",
   "execution_count": 5,
   "id": "4130bebe-22e7-4eae-b016-aae0de9c3c42",
   "metadata": {},
   "outputs": [],
   "source": [
    "ε_wLW = 0.85    # long wave emmisivity: wall surface (concrete)\n",
    "α_wSW = 0.25    # short wave absortivity: white smooth surface"
   ]
  },
  {
   "cell_type": "code",
   "execution_count": 6,
   "id": "fa505094-881f-496f-975d-a1b4913c3914",
   "metadata": {},
   "outputs": [],
   "source": [
    "σ = 5.67e-8     # W/(m²⋅K⁴) Stefan-Bolzmann constant"
   ]
  },
  {
   "cell_type": "code",
   "execution_count": 7,
   "id": "ace21e42-8bd2-4b94-93b1-eb42cd5f1907",
   "metadata": {},
   "outputs": [
    {
     "data": {
      "text/html": [
       "<div>\n",
       "<style scoped>\n",
       "    .dataframe tbody tr th:only-of-type {\n",
       "        vertical-align: middle;\n",
       "    }\n",
       "\n",
       "    .dataframe tbody tr th {\n",
       "        vertical-align: top;\n",
       "    }\n",
       "\n",
       "    .dataframe thead th {\n",
       "        text-align: right;\n",
       "    }\n",
       "</style>\n",
       "<table border=\"1\" class=\"dataframe\">\n",
       "  <thead>\n",
       "    <tr style=\"text-align: right;\">\n",
       "      <th></th>\n",
       "      <th>in</th>\n",
       "      <th>out</th>\n",
       "    </tr>\n",
       "  </thead>\n",
       "  <tbody>\n",
       "    <tr>\n",
       "      <th>h</th>\n",
       "      <td>8.0</td>\n",
       "      <td>25</td>\n",
       "    </tr>\n",
       "  </tbody>\n",
       "</table>\n",
       "</div>"
      ],
      "text/plain": [
       "    in  out\n",
       "h  8.0   25"
      ]
     },
     "execution_count": 7,
     "metadata": {},
     "output_type": "execute_result"
    }
   ],
   "source": [
    "h = pd.DataFrame([{'in': 8., 'out': 25}], index=['h'])  # W/(m²⋅K)\n",
    "h"
   ]
  },
  {
   "cell_type": "code",
   "execution_count": 8,
   "id": "35dbf277-de08-4a51-8c23-ef12fa35378e",
   "metadata": {},
   "outputs": [
    {
     "data": {
      "text/html": [
       "<div>\n",
       "<style scoped>\n",
       "    .dataframe tbody tr th:only-of-type {\n",
       "        vertical-align: middle;\n",
       "    }\n",
       "\n",
       "    .dataframe tbody tr th {\n",
       "        vertical-align: top;\n",
       "    }\n",
       "\n",
       "    .dataframe thead th {\n",
       "        text-align: right;\n",
       "    }\n",
       "</style>\n",
       "<table border=\"1\" class=\"dataframe\">\n",
       "  <thead>\n",
       "    <tr style=\"text-align: right;\">\n",
       "      <th></th>\n",
       "      <th>Conductance</th>\n",
       "    </tr>\n",
       "  </thead>\n",
       "  <tbody>\n",
       "    <tr>\n",
       "      <th>Concrete</th>\n",
       "      <td>336.0</td>\n",
       "    </tr>\n",
       "    <tr>\n",
       "      <th>Insulation</th>\n",
       "      <td>16.2</td>\n",
       "    </tr>\n",
       "  </tbody>\n",
       "</table>\n",
       "</div>"
      ],
      "text/plain": [
       "            Conductance\n",
       "Concrete          336.0\n",
       "Insulation         16.2"
      ]
     },
     "execution_count": 8,
     "metadata": {},
     "output_type": "execute_result"
    }
   ],
   "source": [
    "# Conduction\n",
    "G_cd = wall['Conductivity'] / wall['Width'] * wall['Surface']\n",
    "pd.DataFrame(G_cd, columns={'Conductance'})"
   ]
  },
  {
   "cell_type": "code",
   "execution_count": 9,
   "id": "3c9d6b8e-c422-477d-ba0d-0bdbe2940d54",
   "metadata": {},
   "outputs": [],
   "source": [
    "# Convection\n",
    "Gw = h * wall['Surface'][0]     # wall"
   ]
  },
  {
   "cell_type": "code",
   "execution_count": 10,
   "id": "41d092bb-6fd4-4c31-ac6f-3b7cb0afeb8a",
   "metadata": {},
   "outputs": [],
   "source": [
    "#Tm = 20 + 273   # K, mean temp for radiative exchange\n",
    "#GLW12 = 4 * σ * Tm**3 * Fwg * wall['Surface']['Insulation']\n",
    "#GLW1 = 4 * σ * Tm**3 * ε_wLW / (1 - ε_wLW) * wall['Surface']['Insulation']"
   ]
  },
  {
   "cell_type": "code",
   "execution_count": 11,
   "id": "10d70a5d-5214-4c33-b7d9-17a672cd7fec",
   "metadata": {},
   "outputs": [],
   "source": [
    "#GLW = 1 / (1 / GLW1)"
   ]
  },
  {
   "cell_type": "code",
   "execution_count": 12,
   "id": "5bade982-e6dc-448f-a6a5-8e4740a6b4ee",
   "metadata": {},
   "outputs": [],
   "source": [
    "C_wall = wall['Density'] * wall['Specific heat'] * wall['Surface'] * wall['Width']\n",
    "C_air = air['Density'] * air['Specific heat'] * Va"
   ]
  },
  {
   "cell_type": "code",
   "execution_count": 13,
   "id": "451521bf-320a-4704-95a8-15275c31dd9e",
   "metadata": {},
   "outputs": [
    {
     "data": {
      "text/html": [
       "<div>\n",
       "<style scoped>\n",
       "    .dataframe tbody tr th:only-of-type {\n",
       "        vertical-align: middle;\n",
       "    }\n",
       "\n",
       "    .dataframe tbody tr th {\n",
       "        vertical-align: top;\n",
       "    }\n",
       "\n",
       "    .dataframe thead th {\n",
       "        text-align: right;\n",
       "    }\n",
       "</style>\n",
       "<table border=\"1\" class=\"dataframe\">\n",
       "  <thead>\n",
       "    <tr style=\"text-align: right;\">\n",
       "      <th></th>\n",
       "      <th>Capacity</th>\n",
       "    </tr>\n",
       "  </thead>\n",
       "  <tbody>\n",
       "    <tr>\n",
       "      <th>Concrete</th>\n",
       "      <td>19430400.0</td>\n",
       "    </tr>\n",
       "    <tr>\n",
       "      <th>Insulation</th>\n",
       "      <td>255552.0</td>\n",
       "    </tr>\n",
       "  </tbody>\n",
       "</table>\n",
       "</div>"
      ],
      "text/plain": [
       "              Capacity\n",
       "Concrete    19430400.0\n",
       "Insulation    255552.0"
      ]
     },
     "execution_count": 13,
     "metadata": {},
     "output_type": "execute_result"
    }
   ],
   "source": [
    "pd.DataFrame(C_wall, columns={'Capacity'})"
   ]
  },
  {
   "cell_type": "code",
   "execution_count": 14,
   "id": "57deb2dd-af8a-406a-8ca2-722663de33f1",
   "metadata": {},
   "outputs": [
    {
     "name": "stdout",
     "output_type": "stream",
     "text": [
      "4\n"
     ]
    }
   ],
   "source": [
    "# number of temperature nodes and flow branches\n",
    "no_θ = no_q = sum(wall['Slices']) + 2\n",
    "print(no_q)\n",
    "\n",
    "R_cd = wall['Width'] / (wall['Conductivity'] * Sc)  # K/W\n",
    "R_cv = 1 / (h * Sc)     # K/W"
   ]
  },
  {
   "cell_type": "code",
   "execution_count": 15,
   "id": "70095021-8fa5-4cef-904c-8d22f548676e",
   "metadata": {},
   "outputs": [],
   "source": [
    "# Conductance matrix\n",
    "R = np.zeros([no_q])\n",
    "R[0] = R_cv['out'] \n",
    "R[1] = R_cd['Concrete'] \n",
    "for i in range(0, wall.Slices['Concrete']+1):\n",
    "    R[i + 2] =  2*R_cd['Concrete']/(2*(wall.Slices['Concrete'])) \n",
    "    if i == wall.Slices['Concrete']:\n",
    "        R[i+2] = R_cd['Concrete']/(2*(wall.Slices['Concrete'])) + R_cd['Insulation'] / (2*(wall.Slices['Insulation']))\n",
    "#for j in range(0, wall.Slices['Insulation']+1): \n",
    "#    R[j+2+i] =  2*R_cd['Insulation']/(2*(wall.Slices['Insulation'])) \n",
    "#    if j == wall.Slices['Insulation']:\n",
    "#        R[j+2] = R_cd['Insulation']/(2*(wall.Slices['Insulation'])) + R_cv['in']\n",
    "G = np.diag(np.reciprocal(R))"
   ]
  },
  {
   "cell_type": "code",
   "execution_count": 16,
   "id": "f3596294-7c74-4280-a6a0-c792f566b6e0",
   "metadata": {},
   "outputs": [],
   "source": [
    "C = np.zeros(no_θ)\n",
    "C[0] = 0\n",
    "for i in range(0, wall.Slices['Concrete']+1):\n",
    "    C[i+1] = C_wall.Concrete / ((wall.Slices['Concrete']))\n",
    "for j in range(0, wall.Slices['Insulation']+1):\n",
    "    C[j+i+1] = C_wall.Insulation / wall.Slices['Insulation']\n",
    "    if j == wall.Slices['Insulation']:\n",
    "        C[j+i+1] = C_air\n",
    "C = np.diag(C)"
   ]
  },
  {
   "cell_type": "code",
   "execution_count": null,
   "id": "2370a745-84d7-4e4e-8486-f7557f67d711",
   "metadata": {},
   "outputs": [],
   "source": []
  },
  {
   "cell_type": "code",
   "execution_count": 17,
   "id": "b90fdf19-2690-49e1-9b28-8336a4685f98",
   "metadata": {},
   "outputs": [
    {
     "data": {
      "text/html": [
       "<div>\n",
       "<style scoped>\n",
       "    .dataframe tbody tr th:only-of-type {\n",
       "        vertical-align: middle;\n",
       "    }\n",
       "\n",
       "    .dataframe tbody tr th {\n",
       "        vertical-align: top;\n",
       "    }\n",
       "\n",
       "    .dataframe thead th {\n",
       "        text-align: right;\n",
       "    }\n",
       "</style>\n",
       "<table border=\"1\" class=\"dataframe\">\n",
       "  <thead>\n",
       "    <tr style=\"text-align: right;\">\n",
       "      <th></th>\n",
       "      <th>0</th>\n",
       "      <th>1</th>\n",
       "      <th>2</th>\n",
       "      <th>3</th>\n",
       "    </tr>\n",
       "  </thead>\n",
       "  <tbody>\n",
       "    <tr>\n",
       "      <th>0</th>\n",
       "      <td>1.0</td>\n",
       "      <td>-0.0</td>\n",
       "      <td>-0.0</td>\n",
       "      <td>-0.0</td>\n",
       "    </tr>\n",
       "    <tr>\n",
       "      <th>1</th>\n",
       "      <td>-1.0</td>\n",
       "      <td>1.0</td>\n",
       "      <td>-0.0</td>\n",
       "      <td>-0.0</td>\n",
       "    </tr>\n",
       "    <tr>\n",
       "      <th>2</th>\n",
       "      <td>-0.0</td>\n",
       "      <td>-1.0</td>\n",
       "      <td>1.0</td>\n",
       "      <td>-0.0</td>\n",
       "    </tr>\n",
       "    <tr>\n",
       "      <th>3</th>\n",
       "      <td>-0.0</td>\n",
       "      <td>-0.0</td>\n",
       "      <td>-1.0</td>\n",
       "      <td>1.0</td>\n",
       "    </tr>\n",
       "  </tbody>\n",
       "</table>\n",
       "</div>"
      ],
      "text/plain": [
       "     0    1    2    3\n",
       "0  1.0 -0.0 -0.0 -0.0\n",
       "1 -1.0  1.0 -0.0 -0.0\n",
       "2 -0.0 -1.0  1.0 -0.0\n",
       "3 -0.0 -0.0 -1.0  1.0"
      ]
     },
     "execution_count": 17,
     "metadata": {},
     "output_type": "execute_result"
    }
   ],
   "source": [
    "A = np.eye(no_q, no_θ + 1)\n",
    "A = -np.diff(A, n=1, axis=1)\n",
    "pd.DataFrame(A)"
   ]
  },
  {
   "cell_type": "code",
   "execution_count": 18,
   "id": "cabf73b5-c26a-489e-b243-0caefa3e7138",
   "metadata": {},
   "outputs": [
    {
     "name": "stdout",
     "output_type": "stream",
     "text": [
      "[0. 0. 0. 0.]\n"
     ]
    }
   ],
   "source": [
    "b = np.zeros(no_q)\n",
    "f = np.zeros(no_θ)\n",
    "print(b)"
   ]
  },
  {
   "cell_type": "markdown",
   "id": "84b7ad6c-0258-4423-bc5e-09bd6fc676d8",
   "metadata": {},
   "source": [
    "## Steady Stade"
   ]
  },
  {
   "cell_type": "code",
   "execution_count": 19,
   "id": "09ed2818-77c8-4bc4-bbaf-18a0b2e213bc",
   "metadata": {},
   "outputs": [
    {
     "name": "stdout",
     "output_type": "stream",
     "text": [
      "When To = 1°C, the temperatures in steady-state are: [1. 1. 1. 1.] °C\n",
      "The indoor temperature is: 1.000 °C\n"
     ]
    }
   ],
   "source": [
    "b[0] = 1\n",
    "θ_steady_To = np.linalg.inv(A.T @ G @ A) @ (A.T @ G @ b + f)\n",
    "np.set_printoptions(precision=3)\n",
    "print('When To = 1°C, the temperatures in steady-state are:', θ_steady_To, '°C')\n",
    "print(f'The indoor temperature is: {θ_steady_To[-1]:.3f} °C')"
   ]
  },
  {
   "cell_type": "code",
   "execution_count": 20,
   "id": "082c9221-ddb1-488e-80bb-cfaab265d624",
   "metadata": {},
   "outputs": [
    {
     "name": "stdout",
     "output_type": "stream",
     "text": [
      "When Qh = 1W, the temperatures in steady-state are: [0.001 0.004 0.007 0.039] °C\n",
      "The indoor temperature is: 0.039 °C\n"
     ]
    }
   ],
   "source": [
    "b[0] = 0\n",
    "f[-1] = 1\n",
    "θ_steady_Qh = np.linalg.inv(A.T @ G @ A) @ (A.T @ G @ b + f)\n",
    "print('When Qh = 1W, the temperatures in steady-state are:', θ_steady_Qh, '°C')\n",
    "print(f'The indoor temperature is: {θ_steady_Qh[-1]:.3f} °C')"
   ]
  },
  {
   "cell_type": "markdown",
   "id": "13f346c4-771d-4c0b-acae-6aee45129567",
   "metadata": {},
   "source": [
    "## State-space representation\n"
   ]
  },
  {
   "cell_type": "code",
   "execution_count": 21,
   "id": "d4776995-d627-42ea-9882-ebb880526ca1",
   "metadata": {},
   "outputs": [
    {
     "name": "stdout",
     "output_type": "stream",
     "text": [
      "[0. 1. 0. 0.]\n",
      "y =  [0. 0. 0. 1.]\n",
      "As = \n",
      " [[-3.080e-05  1.729e-05  0.000e+00]\n",
      " [ 1.315e-03 -1.436e-03  1.210e-04]\n",
      " [ 0.000e+00  1.145e-03 -1.145e-03]] \n",
      "\n",
      "Bs = \n",
      " [[1.351e-05 5.147e-08]\n",
      " [0.000e+00 0.000e+00]\n",
      " [0.000e+00 0.000e+00]] \n",
      "\n",
      "Cs = \n",
      " [[0. 0. 1.]] \n",
      "\n",
      "Ds = \n",
      " [[0. 0.]] \n",
      "\n",
      "[0. 1. 0. 0.]\n",
      "[0. 1. 0. 0.]\n"
     ]
    }
   ],
   "source": [
    "# State matrix\n",
    "b = np.zeros(no_q)\n",
    "f = np.zeros(no_θ)\n",
    "b[1] = 1\n",
    "f[1] = 1\n",
    "print(b)\n",
    "\n",
    "y = np.zeros(no_q)         # nodes\n",
    "y[no_q-1] = 1              # nodes (temperatures) of interest\n",
    "print(f'y = ', y)\n",
    "\n",
    "[As, Bs, Cs, Ds] = dm4bem.tc2ss(A, G, b, C, f, y)\n",
    "print('As = \\n', As, '\\n')\n",
    "print('Bs = \\n', Bs, '\\n')\n",
    "print('Cs = \\n', Cs, '\\n')\n",
    "print('Ds = \\n', Ds, '\\n')\n",
    "print(f)\n",
    "print(b)"
   ]
  },
  {
   "cell_type": "code",
   "execution_count": 22,
   "id": "e7d732b0-17c7-4de8-9b5b-7024e0202d47",
   "metadata": {},
   "outputs": [],
   "source": [
    "b = np.zeros(1)\n",
    "b[0] = 10\n",
    "f = np.zeros(1)"
   ]
  },
  {
   "cell_type": "code",
   "execution_count": 23,
   "id": "ddc9b4b4-77c1-4644-85e5-9e4cd0a0988c",
   "metadata": {},
   "outputs": [
    {
     "name": "stdout",
     "output_type": "stream",
     "text": [
      "Time constants: \n",
      " [75110.385   588.526  1112.489] s \n",
      "\n",
      "2 x Time constants: \n",
      " [150220.771   1177.051   2224.979] s \n",
      "\n",
      "Maximum time step: 1177.05 s = 19.62 min\n"
     ]
    }
   ],
   "source": [
    "λ = np.linalg.eig(As)[0]    # eigenvalues of matrix As\n",
    "print('Time constants: \\n', -1 / λ, 's \\n')\n",
    "print('2 x Time constants: \\n', -2 / λ, 's \\n')\n",
    "dtmax = min(-2. / λ)\n",
    "print(f'Maximum time step: {dtmax:.2f} s = {dtmax / 60:.2f} min')"
   ]
  },
  {
   "cell_type": "code",
   "execution_count": 24,
   "id": "6326baf5-9311-4d1a-973f-e7cba34ae415",
   "metadata": {},
   "outputs": [
    {
     "name": "stdout",
     "output_type": "stream",
     "text": [
      "dt = 500 s = 8 min\n"
     ]
    }
   ],
   "source": [
    "dt = 500     # seconds\n",
    "print(f'dt = {dt} s = {dt / 60:.0f} min')"
   ]
  },
  {
   "cell_type": "code",
   "execution_count": 25,
   "id": "c99a77b9-ef55-482a-aafa-2d2ab969c1f6",
   "metadata": {},
   "outputs": [
    {
     "name": "stdout",
     "output_type": "stream",
     "text": [
      "Time constants: \n",
      " [75110.385   588.526  1112.489] s \n",
      "\n",
      "Settling time: 300442 s = 5007.4 min = 83.46 h = 3.48 days\n"
     ]
    }
   ],
   "source": [
    "t_resp = 4 * max(-1 / λ)\n",
    "print('Time constants: \\n', -1 / λ, 's \\n')\n",
    "print(f'Settling time: {t_resp:.0f} s = {t_resp / 60:.1f} min \\\n",
    "= {t_resp / (3600):.2f} h = {t_resp / (3600 * 24):.2f} days')"
   ]
  },
  {
   "cell_type": "markdown",
   "id": "ab5be67f-6a3b-4244-b339-fa58cf578f60",
   "metadata": {},
   "source": [
    "## Step Response\n"
   ]
  },
  {
   "cell_type": "code",
   "execution_count": 26,
   "id": "5850ccdc-cd8e-488b-8433-2b599e865da8",
   "metadata": {},
   "outputs": [
    {
     "name": "stdout",
     "output_type": "stream",
     "text": [
      "Duration = 300442 s\n",
      "Number of time steps = 600\n",
      "600\n"
     ]
    }
   ],
   "source": [
    "duration = 300442            # seconds, larger than response time\n",
    "n = int(np.floor(duration / dt))    # number of time steps\n",
    "t = np.arange(0, n * dt, dt)        # time vector for n time steps\n",
    "\n",
    "print(f'Duration = {duration} s')\n",
    "print(f'Number of time steps = {n}')\n",
    "pd.DataFrame(t, columns=['time'])\n",
    "print(n)"
   ]
  },
  {
   "cell_type": "code",
   "execution_count": 27,
   "id": "2e0aede6-b102-4457-867d-1120baab2341",
   "metadata": {},
   "outputs": [
    {
     "name": "stdout",
     "output_type": "stream",
     "text": [
      "u = \n"
     ]
    },
    {
     "data": {
      "text/html": [
       "<div>\n",
       "<style scoped>\n",
       "    .dataframe tbody tr th:only-of-type {\n",
       "        vertical-align: middle;\n",
       "    }\n",
       "\n",
       "    .dataframe tbody tr th {\n",
       "        vertical-align: top;\n",
       "    }\n",
       "\n",
       "    .dataframe thead th {\n",
       "        text-align: right;\n",
       "    }\n",
       "</style>\n",
       "<table border=\"1\" class=\"dataframe\">\n",
       "  <thead>\n",
       "    <tr style=\"text-align: right;\">\n",
       "      <th></th>\n",
       "      <th>0</th>\n",
       "      <th>1</th>\n",
       "      <th>2</th>\n",
       "      <th>3</th>\n",
       "      <th>4</th>\n",
       "      <th>5</th>\n",
       "      <th>6</th>\n",
       "      <th>7</th>\n",
       "      <th>8</th>\n",
       "      <th>9</th>\n",
       "      <th>...</th>\n",
       "      <th>590</th>\n",
       "      <th>591</th>\n",
       "      <th>592</th>\n",
       "      <th>593</th>\n",
       "      <th>594</th>\n",
       "      <th>595</th>\n",
       "      <th>596</th>\n",
       "      <th>597</th>\n",
       "      <th>598</th>\n",
       "      <th>599</th>\n",
       "    </tr>\n",
       "  </thead>\n",
       "  <tbody>\n",
       "    <tr>\n",
       "      <th>0</th>\n",
       "      <td>10.0</td>\n",
       "      <td>10.0</td>\n",
       "      <td>10.0</td>\n",
       "      <td>10.0</td>\n",
       "      <td>10.0</td>\n",
       "      <td>10.0</td>\n",
       "      <td>10.0</td>\n",
       "      <td>10.0</td>\n",
       "      <td>10.0</td>\n",
       "      <td>10.0</td>\n",
       "      <td>...</td>\n",
       "      <td>10.0</td>\n",
       "      <td>10.0</td>\n",
       "      <td>10.0</td>\n",
       "      <td>10.0</td>\n",
       "      <td>10.0</td>\n",
       "      <td>10.0</td>\n",
       "      <td>10.0</td>\n",
       "      <td>10.0</td>\n",
       "      <td>10.0</td>\n",
       "      <td>10.0</td>\n",
       "    </tr>\n",
       "    <tr>\n",
       "      <th>1</th>\n",
       "      <td>20.0</td>\n",
       "      <td>20.0</td>\n",
       "      <td>20.0</td>\n",
       "      <td>20.0</td>\n",
       "      <td>20.0</td>\n",
       "      <td>20.0</td>\n",
       "      <td>20.0</td>\n",
       "      <td>20.0</td>\n",
       "      <td>20.0</td>\n",
       "      <td>20.0</td>\n",
       "      <td>...</td>\n",
       "      <td>20.0</td>\n",
       "      <td>20.0</td>\n",
       "      <td>20.0</td>\n",
       "      <td>20.0</td>\n",
       "      <td>20.0</td>\n",
       "      <td>20.0</td>\n",
       "      <td>20.0</td>\n",
       "      <td>20.0</td>\n",
       "      <td>20.0</td>\n",
       "      <td>20.0</td>\n",
       "    </tr>\n",
       "  </tbody>\n",
       "</table>\n",
       "<p>2 rows × 600 columns</p>\n",
       "</div>"
      ],
      "text/plain": [
       "    0     1     2     3     4     5     6     7     8     9    ...   590  \\\n",
       "0  10.0  10.0  10.0  10.0  10.0  10.0  10.0  10.0  10.0  10.0  ...  10.0   \n",
       "1  20.0  20.0  20.0  20.0  20.0  20.0  20.0  20.0  20.0  20.0  ...  20.0   \n",
       "\n",
       "    591   592   593   594   595   596   597   598   599  \n",
       "0  10.0  10.0  10.0  10.0  10.0  10.0  10.0  10.0  10.0  \n",
       "1  20.0  20.0  20.0  20.0  20.0  20.0  20.0  20.0  20.0  \n",
       "\n",
       "[2 rows x 600 columns]"
      ]
     },
     "execution_count": 27,
     "metadata": {},
     "output_type": "execute_result"
    }
   ],
   "source": [
    "u = np.zeros([2, n])                # u = [To To To Tisp Φo Φi Qa Φa]\n",
    "u[0, :] = 10 * np.ones([1, n])    # To = 10 for n time steps\n",
    "u[1, :] = 20 * np.ones([1, n])      # Tisp = 20 for n time steps\n",
    "print('u = ')\n",
    "pd.DataFrame(u)"
   ]
  },
  {
   "cell_type": "code",
   "execution_count": 28,
   "id": "5a81ded3-f8fa-4e90-a80c-c3a1b26daba0",
   "metadata": {},
   "outputs": [],
   "source": [
    "n_s = As.shape[0]                      # number of state variables\n",
    "θ_exp = np.zeros([n_s, t.shape[0]])    # explicit Euler in time t\n",
    "θ_imp = np.zeros([n_s, t.shape[0]])    # implicit Euler in time t\n",
    "\n",
    "I = np.eye(n_s)                        # identity matrix\n",
    "\n",
    "for k in range(n - 1):\n",
    "    θ_exp[:, k + 1] = (I + dt * As) @\\\n",
    "        θ_exp[:, k] + dt * Bs @ u[:, k]\n",
    "    θ_imp[:, k + 1] = np.linalg.inv(I - dt * As) @\\\n",
    "        (θ_imp[:, k] + dt * Bs @ u[:, k])"
   ]
  },
  {
   "cell_type": "code",
   "execution_count": 29,
   "id": "dc73be08-b523-49d6-bb78-79e9cf46a050",
   "metadata": {},
   "outputs": [],
   "source": [
    "y_exp = Cs @ θ_exp + Ds @  u\n",
    "y_imp = Cs @ θ_imp + Ds @  u"
   ]
  },
  {
   "cell_type": "code",
   "execution_count": 30,
   "id": "f2cb91e6-59b9-454a-afda-2ac770d39faf",
   "metadata": {},
   "outputs": [
    {
     "data": {
      "image/png": "[encoded data removed]",
      "text/plain": [
       "<Figure size 432x288 with 1 Axes>"
      ]
     },
     "metadata": {
      "needs_background": "light"
     },
     "output_type": "display_data"
    }
   ],
   "source": [
    "fig, ax = plt.subplots()\n",
    "ax.plot(t / 3600, y_exp.T, t / 3600, y_imp.T)\n",
    "ax.set(xlabel='Time [h]',\n",
    "       ylabel='$T_i$ [°C]',\n",
    "       title='Step input: To')\n",
    "ax.legend(['Implicit', 'Explicit'])\n",
    "plt.show()"
   ]
  },
  {
   "cell_type": "code",
   "execution_count": null,
   "id": "06ab2bed-2bc4-4154-8d33-7d7db2e888cb",
   "metadata": {},
   "outputs": [],
   "source": []
  }
 ],
 "metadata": {
  "kernelspec": {
   "display_name": "Python 3 (ipykernel)",
   "language": "python",
   "name": "python3"
  },
  "language_info": {
   "codemirror_mode": {
    "name": "ipython",
    "version": 3
   },
   "file_extension": ".py",
   "mimetype": "text/x-python",
   "name": "python",
   "nbconvert_exporter": "python",
   "pygments_lexer": "ipython3",
   "version": "3.9.12"
  }
 },
 "nbformat": 4,
 "nbformat_minor": 5
}
