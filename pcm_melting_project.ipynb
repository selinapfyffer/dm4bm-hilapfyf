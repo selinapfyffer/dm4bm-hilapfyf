{
 "cells": [
  {
   "cell_type": "markdown",
   "id": "174a23ac-9094-4d80-833b-1868ca182c3d",
   "metadata": {},
   "source": [
    "# Dynamic Model of the Melting Process of a Cell filled with Phase Change Material (PCM)"
   ]
  },
  {
   "cell_type": "markdown",
   "id": "861cbbca-3a13-4952-8c95-99ece6a8836f",
   "metadata": {
    "tags": []
   },
   "source": [
    "**Objectives:**\n",
    "- Analyse the melting process of a phasechange material\n",
    "- Obtain the mathematical model as a system of Differential Algebraic Equations (DAE) from the thermal circuit.\n",
    "- Transfrom the system of DAE into state-space representation.\n",
    "- Find the steady-state solution.\n",
    "- Simulate by using Euler methods for numerical integration.."
   ]
  },
  {
   "cell_type": "code",
   "execution_count": 1,
   "id": "a961f2de-534c-4b4d-898e-98316c5d7c15",
   "metadata": {},
   "outputs": [],
   "source": [
    "import numpy as np\n",
    "import pandas as pd\n",
    "import matplotlib.pyplot as plt\n",
    "import dm4bem\n",
    "from IPython.display import Image"
   ]
  },
  {
   "cell_type": "markdown",
   "id": "577d1efd-4d96-4f9c-955d-a6e833cfc516",
   "metadata": {},
   "source": [
    "## Description of the Physical Model\n",
    "Phase change materials (PCM) are very well suited for storing thermal energy. Compared to a conventional water storage tank, a storage tank filled with PCM has a three times higher energy density. Thermal energy is stored in the material by liquefying the solid PCM. When the PCM is activated at a later time and becomes solid again, the thermal energy can be reused. \n",
    "\n",
    "A storage system, which consists of many small cells filled with PCM, can bring the surplus energy in the summer to the winter without any losses. \n",
    "\n",
    "In this project, the charging behavior of such a PCM cell is modeled dynamically. The charging power is represented as a function of the heat transfer surface. In addition, the temperature curve of the cell during charging is analyzed. \n"
   ]
  },
  {
   "cell_type": "code",
   "execution_count": 2,
   "id": "88887293-ff4a-4e2e-91dd-a2fef9540d6b",
   "metadata": {},
   "outputs": [
    {
     "data": {
      "text/html": [
       "<img src=\"figures/SC01.png\" width=\"600\" height=\"400\"/>"
      ],
      "text/plain": [
       "<IPython.core.display.Image object>"
      ]
     },
     "execution_count": 2,
     "metadata": {},
     "output_type": "execute_result"
    }
   ],
   "source": [
    "Image(url= \"figures/SC01.png\", width=600, height=400)"
   ]
  },
  {
   "cell_type": "markdown",
   "id": "8d7bfb97-f88a-44f3-a996-def5ef26ac57",
   "metadata": {},
   "source": [
    "## Physical analysis\n",
    "\n",
    "### Size of the Cell"
   ]
  },
  {
   "cell_type": "code",
   "execution_count": 3,
   "id": "955b1279-2409-4fe7-8b8f-2c0b3c2d4de6",
   "metadata": {},
   "outputs": [],
   "source": [
    "L = 1\n",
    "B = 0.1\n",
    "\n",
    "i = 3\n",
    "j = 3\n",
    "\n",
    "l = L/i\n",
    "bl = B/j\n",
    "d = 1\n",
    "              # m length of the cubic room\n",
    "Spcm_updown = l*d           # m² surface of the pcm \n",
    "Spcm_leftright = bl*d\n",
    "\n",
    "Tmelt = 55\n",
    "n0 = 4 # Temperature of interest"
   ]
  },
  {
   "cell_type": "markdown",
   "id": "6ffc09cc-60d0-4358-9477-aac79420de6c",
   "metadata": {},
   "source": [
    "### Description of PCM"
   ]
  },
  {
   "cell_type": "code",
   "execution_count": 4,
   "id": "cf330896-e9fb-40a1-8cf0-e3e47a827c69",
   "metadata": {},
   "outputs": [],
   "source": [
    "# used PCM: Sodium Acetate Trihydrate with a Melting Temperature of 55°C\n",
    "\n",
    "PCM = {'Conductivity': [1.1, 1.1, 1.1],  # W/(m·K)\n",
    "        'Density': [1280, 1280, 1280],        # kg/m³\n",
    "        'Specific_heat': [3000, 2100, 265000],  # J/(kg·K)\n",
    "        'Width': [1, 1, 1],\n",
    "        # 'Surface': [Spcm_b, Spcm_b, Spcm_b], # m²\n",
    "        'Slices': [3, 3, 3]}                # number of  slices\n",
    "PCM_Data = pd.DataFrame(PCM, index=['Liquid', 'Solid', 'Phasechange'])"
   ]
  },
  {
   "cell_type": "markdown",
   "id": "fc595e8b-2ecc-49b4-9642-f83b08168307",
   "metadata": {},
   "source": [
    "### Description of the Heat Transfer Fluid"
   ]
  },
  {
   "cell_type": "code",
   "execution_count": 5,
   "id": "4af0e94b-d4fa-4a73-b756-4664fb84abbd",
   "metadata": {},
   "outputs": [],
   "source": [
    "Water = {'Density': 997,                      # kg/m³\n",
    "       'Specific heat': 4186}               # J/(kg·K)\n",
    "# pd.DataFrame.from_dict(air, orient='index', columns=['air'])\n",
    "Water = pd.DataFrame(Water, index=['Air'])"
   ]
  },
  {
   "cell_type": "code",
   "execution_count": 6,
   "id": "d5766409-052b-4b5b-89ef-34b6c24f7665",
   "metadata": {},
   "outputs": [],
   "source": [
    "h = 200  # W/(m²⋅K)"
   ]
  },
  {
   "cell_type": "markdown",
   "id": "12891380-eaad-46f5-874c-ae865e9da601",
   "metadata": {},
   "source": [
    "## Description of the Thermal Circuit"
   ]
  },
  {
   "cell_type": "code",
   "execution_count": 7,
   "id": "4a401da3-6550-4965-9522-5fb78a6bb26b",
   "metadata": {},
   "outputs": [
    {
     "data": {
      "text/html": [
       "<img src=\"figures/skizze_zelle.png\" width=\"600\" height=\"400\"/>"
      ],
      "text/plain": [
       "<IPython.core.display.Image object>"
      ]
     },
     "execution_count": 7,
     "metadata": {},
     "output_type": "execute_result"
    }
   ],
   "source": [
    "Image(url= \"figures/skizze_zelle.png\", width=600, height=400)"
   ]
  },
  {
   "cell_type": "markdown",
   "id": "59617b12-dc4b-4eac-9419-bbeaa9766228",
   "metadata": {},
   "source": [
    "This Scheme shows the Thermal Circuit of one cell filled with PCM. The heat transfer fluid is water and the PCM is sodium acetate water mixture with the melting point @ 55°C.\n",
    "\n",
    "Heat transfert is:\n",
    "- through the PCM\n",
    "- convection from the flowing water to the solid/melting/liquid PCM\n",
    "- temperature sources:\n",
    "    - Tin is at 85°C. This is the entry temperature of the water. The outlet temperature  of the heatexchanger is not known\n",
    "- flow rate sources:\n",
    "    - none\n"
   ]
  },
  {
   "cell_type": "markdown",
   "id": "22cb5abd-001f-46aa-b4ea-375d38829135",
   "metadata": {},
   "source": [
    "### Thermal coductances\n",
    "#### Conduction\n",
    "The conductances 1, 2, 3, and 4 of the thermal circuit from Figure 3 model the heat transfer by [conduction](https://en.m.wikipedia.org/wiki/Thermal_conduction). Conduction conductances, in W/K, are of the form:\n",
    "$$G_{cd} = \\frac{\\lambda}{w}S$$\n",
    "where:\n",
    "\n",
    "- $\\lambda$ - [thermal conductvity](https://en.m.wikipedia.org/wiki/Thermal_conductivity), W/(m⋅K);\n",
    "- $w$ - width of the material, m;\n",
    "- $S$ - surface area of the wall, m²."
   ]
  },
  {
   "cell_type": "markdown",
   "id": "d6276dda-5454-4a57-9035-e7ea373e89bb",
   "metadata": {},
   "source": [
    "Conduction through the pcm material: "
   ]
  },
  {
   "cell_type": "markdown",
   "id": "e5437071-f221-48ce-8f1d-2914c352e4ae",
   "metadata": {},
   "source": [
    "Up/down:  $$𝐺_𝐶𝐷,𝑈𝐷=𝑘/𝑏⋅𝐴_𝑈𝐷=  (1.1 𝑤/𝑚𝐾)/0.033𝑚⋅0.33𝑚^2 = 11 𝑊/𝐾 $$\n",
    "\n"
   ]
  },
  {
   "cell_type": "markdown",
   "id": "7bbb46fa-1820-4ded-8c0c-23afd0c35ac2",
   "metadata": {},
   "source": [
    "Right/Left: $$ 𝐺_(𝐶𝐷,𝑅𝐿)=𝑘/𝑙⋅𝐴_𝑅𝐿=0.11 𝑊/𝐾 $$"
   ]
  },
  {
   "cell_type": "code",
   "execution_count": 8,
   "id": "e173b908-5bf1-409a-8905-78e1ca511bff",
   "metadata": {},
   "outputs": [],
   "source": [
    "G_cud = PCM_Data.Conductivity['Liquid'] / bl * Spcm_updown\n",
    "G_crl = float(PCM_Data.Conductivity['Liquid'] / l * Spcm_leftright)"
   ]
  },
  {
   "cell_type": "markdown",
   "id": "d71ee63d-27d8-4e66-ad42-eff1f44970b0",
   "metadata": {},
   "source": [
    "#### Convection\n",
    "The conductances 0, 6 and 7 model the heat transfer by [convection](https://en.m.wikipedia.org/wiki/Convection_(heat_transfer). Convection conductances, in W/K, are of the form:\n",
    "$$G_{cv} = {h S}$$\n",
    "where:\n",
    "- $h$ is the [convection coefficient](https://en.m.wikipedia.org/wiki/Heat_transfer_coefficient), W/(m²⋅K);\n",
    "- $S$ - surface area of the wall, m². "
   ]
  },
  {
   "cell_type": "code",
   "execution_count": 9,
   "id": "d6b4b6b8-742a-4e8c-90f7-0cf0c32acec9",
   "metadata": {},
   "outputs": [],
   "source": [
    "# Convection\n",
    "Gw = float(Water['Specific heat'])*2   #m*cp\n",
    "Gwpcm = h*Spcm_updown"
   ]
  },
  {
   "cell_type": "markdown",
   "id": "ddbe3430-34a3-4980-bd7a-e8e305c0446a",
   "metadata": {},
   "source": [
    "#### Combined Conduction & Convection"
   ]
  },
  {
   "cell_type": "code",
   "execution_count": 10,
   "id": "51046a8c-570f-43c2-982d-c8675a7c14e0",
   "metadata": {},
   "outputs": [],
   "source": [
    "G1 = Gw + G_cud*2\n",
    "G0 = Gw"
   ]
  },
  {
   "cell_type": "markdown",
   "id": "049e9eef-161c-4ee7-bfba-34c1551b9d79",
   "metadata": {},
   "source": [
    "### Thermal capacities"
   ]
  },
  {
   "cell_type": "markdown",
   "id": "81664beb-24ca-41c5-9f0d-76496f72d4cf",
   "metadata": {},
   "source": [
    "### Thermal capacities\n",
    "#### PCM\n",
    "The [thermal capacities](https://en.m.wikipedia.org/wiki/Heat_capacity) of the wall, in J/kg, are of the form:\n",
    "\n",
    "$$ C_pcm= m_pcm*c_pcm= \\rho_w*c_pcm*w_pcm S $$\n",
    "\n",
    "where:\n",
    "- $m_pcm = \\rho_w w_w S_w$ is the mass of the pcm, kg;\n",
    "- $c_pcm$ - [specific heat capacity](https://en.m.wikipedia.org/wiki/Specific_heat_capacity), J/(kg⋅K);\n",
    "- $\\rho_pcm$ - [density](https://en.m.wikipedia.org/wiki/Density), kg/m³;\n",
    "- $w_pcm$ - width of the cell, m;\n",
    "- $S$ - surface area of the cell, m²."
   ]
  },
  {
   "cell_type": "code",
   "execution_count": 11,
   "id": "577a7558-09d9-4391-8cf5-eb4dcc1dbe24",
   "metadata": {},
   "outputs": [],
   "source": [
    "#Capacities\n",
    "m = PCM_Data.Density['Liquid']*Spcm_leftright*l\n",
    "Cpcm_solid = m*PCM_Data.Specific_heat['Solid']\n",
    "Cpcm_liquid = m*PCM_Data.Specific_heat['Liquid']\n",
    "Cpcm_pc = m*PCM_Data.Specific_heat['Phasechange']"
   ]
  },
  {
   "cell_type": "markdown",
   "id": "781e43d5-7d2e-441c-bd09-b941e0928fa6",
   "metadata": {},
   "source": [
    "### Temperature sources\n",
    "\n",
    "The [temperature sources](https://en.m.wikipedia.org/wiki/Voltage_source#Ideal_voltage_sources) model temperatures which vary independently of what happens in the themal circuit; they are inputs of the physical model. Generally, the temperature sources are:\n",
    "- outdoor air and ground temperature;\n",
    "- temperature of adjacent spaces which have controlled temperature;\n",
    "- setpoint temperature."
   ]
  },
  {
   "cell_type": "markdown",
   "id": "783e5ff9-576c-47ad-8cb5-b441def9836d",
   "metadata": {},
   "source": [
    "## System of algebraic-differential equations (DAE)\n",
    "\n",
    "The analysis of a thermal circuit, or the direct problem ([Ghiaus 2022](https://hal.archives-ouvertes.fr/hal-03484064/document)), means to find the temperatures in the nodes, $\\theta$, and the heat flows on the branches, $q$, i.e. to solve for $\\theta$ and $q$ the system of [Differential-Algebraic Equations (DAE)](https://en.m.wikipedia.org/wiki/Differential-algebraic_system_of_equations) (Figures 3 and 4):\n",
    "\n",
    "$$\\left\\{\\begin{array}{ll}\n",
    "C \\dot{\\theta} = -(A^T G A) \\theta + A^T G b + f\\\\ \n",
    "q = G (-A \\theta + b)\n",
    "\\end{array}\\right.$$\n",
    "\n",
    "where:\n",
    "- $\\theta$ is the temperature vector of size $n_\\theta$ equal to the number of nodes;\n",
    "- $q$ - heat flow vector of size $n_q$ equal to the number of branches;\n",
    "- $A$ - [incidence matrix](https://en.m.wikipedia.org/wiki/Incidence_matrix) of size $n_q$ rows and $n_{\\theta}$ columns, where $n_q$ is the number of flow branches and $n_{\\theta}$  is the number of temperature nodes. It shows how the temperature nodes are connected by oriented branches of heat flows:\n",
    "    - if flow *m* enters into node *n*, then the element (*m, n*) of the matrix $A$ is 1, i.e., $A_{m,n} = 1$;\n",
    "    - if flow *m* exits from node *n*, then the element (*m, n*) of the matrix $A$ is -1, i.e., $A_{m,n} = -1$, ; \n",
    "    - if flow *m* is not connected to node *n*, then the element (*m, n*) of the matrix $A$ is 0, i.e., $A_{m,n} = 0$.\n",
    "\n",
    "- $G$ - conductance diagonal matrix of size $n_q \\times n_q$,  where $n_q$ is the number of flow branches: diagonal matrix containing the conductances. Each branch $k$ needs to contain a conductance $0 < G_{k,k} < \\infty $. \n",
    "\n",
    "- $C$ - capacity diagonal matrix of size $n_θ \\times n_θ$,  where $n_θ$ is the number of temperature nodes: diagonal matrix containing the capacities. If there is no capacity in the node *n*, then $C_{n, n} = 0$.\n",
    "\n",
    "- $b$ - temperature source vector of size $n_q$: if there is no temperature source on the branch *m*, then $b_m = 0$.\n",
    "\n",
    "- $f$ - heat flow source vector of size $n_θ$: if there is no heat flow source in the node *n*, then $f_n = 0$.\n",
    "\n",
    "The resolution is first done for temperatures, $\\theta$, by solving the equation\n",
    "$$C \\dot{\\theta} = -(A^T G A) \\theta + A^T G b + f$$\n",
    "which, generally, is a system of differential-algebraic equations (DAE). Then, the heat flow rates are found from the equation\n",
    "$$q = G (-A \\theta + b)$$\n",
    "\n"
   ]
  },
  {
   "cell_type": "markdown",
   "id": "5925e9a4-a473-48ee-993e-d96ed31577e1",
   "metadata": {},
   "source": [
    "### A: incidence matrix"
   ]
  },
  {
   "cell_type": "code",
   "execution_count": 12,
   "id": "7fc6af41-5855-44a1-b950-b88590853123",
   "metadata": {},
   "outputs": [
    {
     "data": {
      "text/html": [
       "<img src=\"figures/A.png\" width=\"600\" height=\"400\"/>"
      ],
      "text/plain": [
       "<IPython.core.display.Image object>"
      ]
     },
     "execution_count": 12,
     "metadata": {},
     "output_type": "execute_result"
    }
   ],
   "source": [
    "Image(url= \"figures/A.png\", width=600, height=400)"
   ]
  },
  {
   "cell_type": "code",
   "execution_count": 13,
   "id": "9f6ad221-8bcb-46a9-b098-aea11f311a8c",
   "metadata": {},
   "outputs": [],
   "source": [
    "A = np.zeros([13, 9])       # n° of branches X n° of nodes\n",
    "A[0, 0] = 1                 # branch 0: -> node 0\n",
    "A[1, 0], A[1, 1] = -1, 1    # branch 1: node 0 -> node 1\n",
    "A[2, 1], A[2, 2] = -1, 1    # branch 2: node 1 -> node 2\n",
    "A[3,0], A[4,1], A[5,2], A[6,3] , A[7,4],A[8,3], A[9,4], A[10,5], A[11,6],A[12,8], A[12,7]= -1,-1,-1, -1, -1, -1, -1, -1, -1, -1, -1\n",
    "A[3,3], A[4,4], A[5,5], A[6,4],  A[8,6], A[9,7], A[10,8], A[12,8], A[11,7], A[7,5] = 1,1,1, 1, 1, 1, 1, 1, 1, 1"
   ]
  },
  {
   "cell_type": "code",
   "execution_count": 14,
   "id": "1f98f328-3f8a-47b1-96b0-f100be92a87b",
   "metadata": {},
   "outputs": [],
   "source": [
    "np.set_printoptions(suppress=False)\n",
    "A_Data = pd.DataFrame(A)"
   ]
  },
  {
   "cell_type": "markdown",
   "id": "d8072d1f-861f-4916-b83d-a4c757475c81",
   "metadata": {},
   "source": [
    "### G: conductance matrix\n",
    "\n",
    "The conductance matrix of the themal circuit shown in Figure 3 is:"
   ]
  },
  {
   "cell_type": "code",
   "execution_count": 15,
   "id": "adfba638-2617-469e-b46b-c8f85579981d",
   "metadata": {},
   "outputs": [],
   "source": [
    "G = np.array([Gw*2, Gw, Gw, G1, G1, G1, G_crl, G_crl, G_cud, G_cud, G_cud, G_crl, G_crl])\n",
    "G= np.diag(G)\n",
    "np.set_printoptions(precision=3, threshold=16, suppress=True)\n",
    "pd.set_option(\"display.precision\", 1)\n",
    "G_Data = pd.DataFrame(G)"
   ]
  },
  {
   "cell_type": "code",
   "execution_count": 16,
   "id": "3e1ba848-25ef-4bc9-a83c-3aa617357cf2",
   "metadata": {},
   "outputs": [
    {
     "data": {
      "text/html": [
       "<img src=\"figures/G.png\" width=\"600\" height=\"400\"/>"
      ],
      "text/plain": [
       "<IPython.core.display.Image object>"
      ]
     },
     "execution_count": 16,
     "metadata": {},
     "output_type": "execute_result"
    }
   ],
   "source": [
    "Image(url= \"figures/G.png\", width=600, height=400)"
   ]
  },
  {
   "cell_type": "code",
   "execution_count": null,
   "id": "9dc243fe-e57d-4059-8005-d5f6f04cf10e",
   "metadata": {},
   "outputs": [],
   "source": []
  },
  {
   "cell_type": "markdown",
   "id": "f5784060-ed29-4071-b980-a9010531b903",
   "metadata": {},
   "source": [
    "### C: capacity matrix"
   ]
  },
  {
   "cell_type": "code",
   "execution_count": 17,
   "id": "d2b65923-2187-4fd6-a8e6-c6109f99ffa8",
   "metadata": {},
   "outputs": [],
   "source": [
    "C_solid = np.array([0, 0, 0, Cpcm_solid, Cpcm_solid, Cpcm_solid, Cpcm_solid, Cpcm_solid, Cpcm_solid])\n",
    "C_solid = np.diag(C_solid)\n",
    "# Uncomment next line to put 'Air' and 'Glass' capacities to zero \n",
    "# C = np.diag([0, C['Concrete'], 0, C['Insulation'], 0, 0, 0, 0])\n",
    "pd.set_option(\"display.precision\", 3)\n",
    "C_solid_data = pd.DataFrame(C_solid)\n",
    "\n",
    "C_liquid = np.array([0, 0, 0, Cpcm_liquid, Cpcm_liquid, Cpcm_liquid,  Cpcm_liquid, Cpcm_liquid, Cpcm_liquid])\n",
    "C_liquid = np.diag(C_liquid)\n",
    "# Uncomment next line to put 'Air' and 'Glass' capacities to zero \n",
    "# C = np.diag([0, C['Concrete'], 0, C['Insulation'], 0, 0, 0, 0])\n",
    "pd.set_option(\"display.precision\", 3)\n",
    "C_liquid_data = pd.DataFrame(C_liquid)\n",
    "\n",
    "Cpcm_pc = np.array([0, 0, 0, Cpcm_pc, Cpcm_pc, Cpcm_pc, Cpcm_pc, Cpcm_pc, Cpcm_pc])\n",
    "Cpcm_pc = np.diag(Cpcm_pc)\n",
    "# Uncomment next line to put 'Air' and 'Glass' capacities to zero \n",
    "# C = np.diag([0, C['Concrete'], 0, C['Insulation'], 0, 0, 0, 0])\n",
    "pd.set_option(\"display.precision\", 3)\n",
    "C_pc_data = pd.DataFrame(Cpcm_pc)"
   ]
  },
  {
   "cell_type": "markdown",
   "id": "b0f7ece7-7e6b-4da4-805a-d2229749be26",
   "metadata": {},
   "source": [
    "𝑐_𝑠𝑜𝑙𝑖𝑑=𝑚_𝑝𝑐𝑚⋅𝑐𝑝_(𝑠 )= V⋅𝜑⋅𝑐𝑝_𝑠= 29866 𝑊/𝐾\n",
    "\n",
    "𝑐_𝑙𝑖𝑞𝑢𝑖𝑑=𝑚_𝑝𝑐𝑚⋅𝑐𝑝_𝑙=V⋅𝜑⋅𝑐𝑝_𝑙= 42666 𝑊/𝐾\n",
    "\n",
    "𝑐_𝑝ℎ𝑎𝑠𝑒𝑐ℎ𝑎𝑛𝑔𝑒=𝑚_𝑝𝑐𝑚⋅ℎ_𝑚𝑒𝑙𝑡=V⋅𝜑⋅ℎ_𝑚𝑒𝑙𝑡= 3768300 𝑊/𝐾"
   ]
  },
  {
   "cell_type": "markdown",
   "id": "47ee0396-726c-4b88-a0b0-a920b5644f78",
   "metadata": {},
   "source": [
    "### b: temperature source vector\n",
    "\n",
    "The vector of *temperature sources* is $b$, of size $n_q$, the number of branches (in this example 12). An element of the vector $b$ corresponding to a branch without a source is zero. If the flow in a source is from the low potential to the high potential of the source (i.e. from - to +), then the source is positive. If the flow rate in the temperature source is from high potential to low potential (i.e. from + to -), then the source is negative (see [passive sign convention](https://en.m.wikipedia.org/wiki/Passive_sign_convention)). \n",
    "\n",
    "For the thermal circuit shown in Figure 3,\n",
    "\n",
    "$$b = [\\begin{matrix}\n",
    "T_o &0  &0  &0  &0  &0  &0  &0  &0  &0  &0  &0 \n",
    "\\end{matrix}]^T$$\n",
    "\n",
    "- $T_o$ is the inlet temperature of the heat transfer fluid, °C;\n",
    "\n",
    "Since the temperature sorces $T_o$ and $T_{i,sp}$ are [time series](https://en.m.wikipedia.org/wiki/Time_series), in vector $b$ the branches which contain temperature sources are designated by $1$ and the branches without any temeprature source by $0$."
   ]
  },
  {
   "cell_type": "code",
   "execution_count": 18,
   "id": "66cb6b7d-7f05-4bf6-82b8-556cd0f41921",
   "metadata": {},
   "outputs": [
    {
     "name": "stdout",
     "output_type": "stream",
     "text": [
      "[1. 0. 0. 0. 0. 0. 0. 0. 0. 0. 0. 0. 0.]\n"
     ]
    }
   ],
   "source": [
    "b = np.zeros(13)  \n",
    "b[[0]] = 1 \n",
    "print(b)   # branches\n",
    "f = np.zeros(9)         # nodes"
   ]
  },
  {
   "cell_type": "markdown",
   "id": "f98d208f-add7-40db-9d5b-c0d772f2f382",
   "metadata": {},
   "source": [
    "### y: output vector\n",
    "\n",
    "The vector of outputs is $y$, of size $n_{\\theta}$, the number of nodes (in this example 8). The non-zero values of $y$ indicate the nodes which are the outputs of the model.\n",
    "\n",
    "the temperature of the node = n0 will be evaluated in this model"
   ]
  },
  {
   "cell_type": "code",
   "execution_count": 19,
   "id": "97a47152-2a52-4dab-9076-13029f69697e",
   "metadata": {},
   "outputs": [],
   "source": [
    "y = np.zeros(9)         # nodes\n",
    "y[[n0]] = 1  "
   ]
  },
  {
   "cell_type": "markdown",
   "id": "fb8c1711-9b49-41c7-87f6-0c6103cba551",
   "metadata": {},
   "source": [
    "## State-space representation\n",
    "The [differential-algebraic system of equations (DAE)](https://en.m.wikipedia.org/wiki/Differential-algebraic_system_of_equations)\n",
    "\n",
    "$$C \\dot{\\theta} = -(A^T G A) \\theta + A^T G b + f$$\n",
    "\n",
    "is transformed in [state-space representation](https://en.m.wikipedia.org/wiki/State-space_representation) ([Ghiaus 2013](https://hal.archives-ouvertes.fr/hal-03605823/document)):\n",
    "\n",
    "$$\\left\\{\\begin{array}{rr}\n",
    "\\dot{\\theta}_s=A_s \\theta_C + B_s u\\\\ \n",
    "y = C_s \\theta_s + D_s u\n",
    "\\end{array}\\right.$$\n",
    "\n",
    "where:\n",
    "- $\\theta_s$ is the vector of state variables which are the temperatures of nodes containing capacities; the elements are in the same order as in the vector of temperatures, $\\theta$; its dimension, $\\dim \\theta_s$, is equal to the number of capacities from the thermal network; for the circuit presented in Figure 3, $\\theta_s = [\\theta_1, \\theta_3, \\theta_6, \\theta_7]^T$;\n",
    "\n",
    "- $u = \\begin{bmatrix} b_T \\\\ f_Q\\end{bmatrix}$ - vector of inputs of dimension $\\dim u$ equal to the number of sources (of temperaure and heat flows) of the thermal network, where:\n",
    "\n",
    "    - vector $b_T$ of nonzero elements of vector $b$ of temperature sources; for the circuit presented in Figure 3, $b_T = [T_o]^T$ corresponds to branche 0; \n",
    "    - vector $f_Q$ of nonzero elements of vector $f$ of flow sources; for the circuit presented in Figure 3, $f_Q = [0]^T$;\n",
    "    \n",
    "- $y$ - vector of outputs is a subset of vector $\\theta$ representing temperature nodes which are of interest; for the circuit presented in Figure 3, $y = n0, the indoor temperature.\n",
    "\n",
    "- $A_s$ - state matrix, of dimension $\\dim A_s = \\dim {\\theta_s} \\times \\dim {\\theta_s}$;\n",
    "\n",
    "- $B_s$ - input matrix, of dimension $\\dim B_s = \\dim {\\theta_s} \\times \\dim u$;\n",
    "\n",
    "- $C_s$ - output matrix, of dimension $\\dim C_s = \\dim y \\times \\dim {\\theta_s}$;\n",
    "\n",
    "- $D_s$ - feedthrough (or feedforward) matrix, of dimension $\\dim D_s = \\dim y \\times \\dim u$.\n",
    "\n",
    "*Note*: The subscript $s$ of the matrices $A_s, B_s, C_s, D_s$ is used to differentiante the matrices $A_s, C_s$ of the state-space represenation of the matrices $A, C$ of the system of DAE."
   ]
  },
  {
   "cell_type": "code",
   "execution_count": 20,
   "id": "7e70ab20-a635-4f10-b008-364a615bb200",
   "metadata": {},
   "outputs": [
    {
     "name": "stdout",
     "output_type": "stream",
     "text": [
      "As = \n",
      " [[-0.203  0.031  0.016  0.     0.     0.   ]\n",
      " [ 0.031 -0.156  0.062  0.     0.     0.   ]\n",
      " [ 0.016  0.062 -0.11   0.     0.     0.   ]\n",
      " [ 0.     0.     0.    -0.     0.     0.   ]\n",
      " [ 0.     0.     0.     0.    -0.     0.   ]\n",
      " [ 0.     0.     0.     0.     0.    -0.   ]] \n",
      "\n",
      "Bs = \n",
      " [[0.156]\n",
      " [0.062]\n",
      " [0.031]\n",
      " [0.   ]\n",
      " [0.   ]\n",
      " [0.   ]] \n",
      "\n",
      "Cs = \n",
      " [[0. 1. 0. 0. 0. 0.]] \n",
      "\n",
      "Ds = \n",
      " [[0.]] \n",
      "\n"
     ]
    }
   ],
   "source": [
    "[As_solid, Bs_solid, Cs_solid, Ds_solid] = dm4bem.tc2ss(A, G, b, C_solid, f, y)\n",
    "print('As = \\n', As_solid, '\\n')\n",
    "print('Bs = \\n', Bs_solid, '\\n')\n",
    "print('Cs = \\n', Cs_solid, '\\n')\n",
    "print('Ds = \\n', Ds_solid, '\\n')\n",
    "[As_liquid, Bs_liquid, Cs_liquid, Ds_liquid] = dm4bem.tc2ss(A, G, b, C_liquid, f, y)\n",
    "[As_pc, Bs_pc, Cs_pc, Ds_pc] = dm4bem.tc2ss(A, G, b, Cpcm_pc, f, y)"
   ]
  },
  {
   "cell_type": "markdown",
   "id": "3280f3ac-3766-4939-a65c-914a72a5a5d5",
   "metadata": {},
   "source": [
    "## Steady-state\n",
    "\n",
    "In [steady-state](https://en.m.wikipedia.org/wiki/Steady_state), the model can be checked if it is incorrect. Let's consider that:\n",
    "\n",
    "- the inlet temperature is $T_o = 85 \\, \\mathrm{^\\circ C}$,\n",
    "- all flow rate sources are zero."
   ]
  },
  {
   "cell_type": "code",
   "execution_count": 21,
   "id": "c10dd956-4f7b-4aa9-aefa-6a1c9588ad4d",
   "metadata": {},
   "outputs": [
    {
     "name": "stdout",
     "output_type": "stream",
     "text": [
      "θ = [85. 85. 85. 85. 85. 85. 85. 85. 85.] °C\n"
     ]
    }
   ],
   "source": [
    "# steady state\n",
    "b = np.zeros(13)        # temperature sources\n",
    "b[[0]] = 85      # outdoor temperature\n",
    "\n",
    "f = np.zeros(9)         # flow-rate sources\n",
    "\n",
    "θ = np.linalg.inv(A.T @ G @ A) @ (A.T @ G @ b + f)\n",
    "print(f'θ = {θ} °C')"
   ]
  },
  {
   "cell_type": "markdown",
   "id": "51611b6b-fe9a-4615-a677-9a6c80a21416",
   "metadata": {},
   "source": [
    "### System of Diferential Algebraic Equations (DAE)\n",
    "The value of temperature in [steady-state](https://en.m.wikipedia.org/wiki/Steady_state) is obtained from the system of DAE by considering $\\dot{\\theta} = 0$:\n",
    "\n",
    "$$\\theta_{ss} = (A^T G A)^{-1}(A^T G b + f)$$\n",
    "\n",
    "For the conditions mentioned above, in steady-state, all temperatures $\\theta_0 ... \\theta_7$, including the indoor air temperature $\\theta_6$, are equal to $T_o = 85 \\, \\mathrm{^\\circ C}$."
   ]
  },
  {
   "cell_type": "code",
   "execution_count": 22,
   "id": "bac4f818-2482-403e-a8c8-d45883a12310",
   "metadata": {},
   "outputs": [
    {
     "name": "stdout",
     "output_type": "stream",
     "text": [
      "u = [0]\n"
     ]
    }
   ],
   "source": [
    "bT = np.array([85])     # [To]\n",
    "fQ = np.array([0])         # [0]\n",
    "u = np.hstack([fQ])\n",
    "print(f'u = {u}')"
   ]
  },
  {
   "cell_type": "markdown",
   "id": "0e33fcd6-fc0a-44bf-bbec-8e0bd01dde56",
   "metadata": {},
   "source": [
    "The steady-state value of the output of the state-space representation is:\n",
    "\n",
    "$$y_{ss} = (-C_s A_s^{-1} B_s + D_s) u$$"
   ]
  },
  {
   "cell_type": "code",
   "execution_count": 23,
   "id": "986d2436-e3e7-470c-bf52-c873ded85419",
   "metadata": {},
   "outputs": [
    {
     "name": "stdout",
     "output_type": "stream",
     "text": [
      "yss = [0.] °C\n"
     ]
    }
   ],
   "source": [
    "yss = (-Cs_solid @ np.linalg.inv(As_solid) @ Bs_solid + Ds_solid) @ u\n",
    "print(f'yss = {yss} °C')"
   ]
  },
  {
   "cell_type": "markdown",
   "id": "8ab2fa19-49da-4704-a29b-425524d8dc45",
   "metadata": {},
   "source": [
    "The error between the steady-state values obtained from the system of DAE, $\\theta_6$, and the output of the state-space representation, $y_{ss}$, \n",
    "\n",
    "$$\\varepsilon = \\left | \\theta_6 - y_{ss} \\right |$$\n",
    "\n",
    "is practically zero; the slight difference is due to [numerical errors](https://en.m.wikipedia.org/wiki/Numerical_error)."
   ]
  },
  {
   "cell_type": "markdown",
   "id": "204f27ea-7562-4e52-b7cc-8c74fb603d06",
   "metadata": {},
   "source": [
    "## Dynamic simulation"
   ]
  },
  {
   "cell_type": "markdown",
   "id": "5fcc0413-46d7-4aa0-86be-6809074d77f3",
   "metadata": {},
   "source": [
    "### Time step\n",
    "\n",
    "The condition for [numerical stability](https://en.m.wikipedia.org/wiki/Euler_method#Numerical_stability) of [Euler explicit integration](https://en.m.wikipedia.org/wiki/Numerical_methods_for_ordinary_differential_equations#Euler_method) method is\n",
    "\n",
    "$$\\left |  \\lambda_i \\Delta t + 1 \\right | < 1, \\forall \\lambda_i, $$\n",
    "\n",
    "i.e. in the complex plane, $\\lambda_i \\Delta t$ is inside a circle of radius 1 centered in {-1, 0j}, where:\n",
    "- $\\lambda_i$ are the eigenvalues of matrix $A_s$,\n",
    "- $\\Delta t$ - time step.\n",
    "\n",
    "For positive real eigenvalues $\\left \\{ \\lambda \\in \\Re |\\lambda >0  \\right \\}$, which is the case of thermal networks, the above condition [becomes](http://www.math.iit.edu/~fass/478578_Chapter_4.pdf)\n",
    "\n",
    "$$- \\lambda_i \\Delta t - 1  < 1, \\forall \\lambda_i, $$\n",
    "\n",
    "or\n",
    "\n",
    "$$ 0 < \\Delta t < -\\frac{2}{\\min \\lambda_i} = \\min -2 / \\lambda_i = \\min 2 T_i$$\n",
    "\n",
    "where $T_i$ are the [time constants](https://en.m.wikipedia.org/wiki/Time_constant), $T_i = - \\frac{1}{\\lambda_i} $"
   ]
  },
  {
   "cell_type": "code",
   "execution_count": 24,
   "id": "7542b882-d425-4496-8754-8801fcebec0f",
   "metadata": {},
   "outputs": [
    {
     "name": "stdout",
     "output_type": "stream",
     "text": [
      "Time constants: \n",
      " [   4.506    5.331   16.767 2640.544 2730.64  2694.741] s \n",
      "\n",
      "2 x Time constants: \n",
      " [   9.013   10.662   33.534 5281.089 5461.281 5389.483] s \n",
      "\n",
      "Maximum time step: 9.01 s = 0.15 min\n",
      "dt = 3 s = 0 min\n"
     ]
    }
   ],
   "source": [
    "\n",
    "λ = np.linalg.eig(As_solid)[0]    # eigenvalues of matrix As\n",
    "print('Time constants: \\n', -1 / λ, 's \\n')\n",
    "print('2 x Time constants: \\n', -2 / λ, 's \\n')\n",
    "dtmax = min(-2. / λ)\n",
    "print(f'Maximum time step: {dtmax:.2f} s = {dtmax / 60:.2f} min')\n",
    "\n",
    "dt = 3     # seconds\n",
    "print(f'dt = {dt} s = {dt / 60:.0f} min')"
   ]
  },
  {
   "cell_type": "markdown",
   "id": "b783c0f6-92c3-4047-ab62-be08ce6d58d1",
   "metadata": {},
   "source": [
    "### Settling time\n",
    "The [settling time](https://en.m.wikipedia.org/wiki/Step_response) is roughly 4 times the larger time constant."
   ]
  },
  {
   "cell_type": "markdown",
   "id": "5ae261b7-6be1-4397-900a-30306bd2034f",
   "metadata": {},
   "source": [
    "### Step response\n",
    "Let's obtain the dynamic response of the system to a [step input](https://en.m.wikipedia.org/wiki/Step_response).\n",
    "\n",
    "#### Duration\n",
    "The duration of the simulation needs to be larger than the estimated [settling time](https://en.m.wikipedia.org/wiki/Settling_time). This requires a corresponding number of time steps in the time vector."
   ]
  },
  {
   "cell_type": "code",
   "execution_count": 25,
   "id": "72ed9a31-d56c-4089-8f72-241e65656d0d",
   "metadata": {},
   "outputs": [
    {
     "name": "stdout",
     "output_type": "stream",
     "text": [
      "Time constants: \n",
      " [   4.506    5.331   16.767 2640.544 2730.64  2694.741] s \n",
      "\n",
      "Settling time: 10923 s = 182.0 min = 3.03 h = 0.13 days\n",
      "Duration = 11923 s\n",
      "Number of time steps = 3974\n"
     ]
    },
    {
     "data": {
      "text/html": [
       "<div>\n",
       "<style scoped>\n",
       "    .dataframe tbody tr th:only-of-type {\n",
       "        vertical-align: middle;\n",
       "    }\n",
       "\n",
       "    .dataframe tbody tr th {\n",
       "        vertical-align: top;\n",
       "    }\n",
       "\n",
       "    .dataframe thead th {\n",
       "        text-align: right;\n",
       "    }\n",
       "</style>\n",
       "<table border=\"1\" class=\"dataframe\">\n",
       "  <thead>\n",
       "    <tr style=\"text-align: right;\">\n",
       "      <th></th>\n",
       "      <th>time</th>\n",
       "    </tr>\n",
       "  </thead>\n",
       "  <tbody>\n",
       "    <tr>\n",
       "      <th>0</th>\n",
       "      <td>0</td>\n",
       "    </tr>\n",
       "    <tr>\n",
       "      <th>1</th>\n",
       "      <td>3</td>\n",
       "    </tr>\n",
       "    <tr>\n",
       "      <th>2</th>\n",
       "      <td>6</td>\n",
       "    </tr>\n",
       "    <tr>\n",
       "      <th>3</th>\n",
       "      <td>9</td>\n",
       "    </tr>\n",
       "    <tr>\n",
       "      <th>4</th>\n",
       "      <td>12</td>\n",
       "    </tr>\n",
       "    <tr>\n",
       "      <th>...</th>\n",
       "      <td>...</td>\n",
       "    </tr>\n",
       "    <tr>\n",
       "      <th>3969</th>\n",
       "      <td>11907</td>\n",
       "    </tr>\n",
       "    <tr>\n",
       "      <th>3970</th>\n",
       "      <td>11910</td>\n",
       "    </tr>\n",
       "    <tr>\n",
       "      <th>3971</th>\n",
       "      <td>11913</td>\n",
       "    </tr>\n",
       "    <tr>\n",
       "      <th>3972</th>\n",
       "      <td>11916</td>\n",
       "    </tr>\n",
       "    <tr>\n",
       "      <th>3973</th>\n",
       "      <td>11919</td>\n",
       "    </tr>\n",
       "  </tbody>\n",
       "</table>\n",
       "<p>3974 rows × 1 columns</p>\n",
       "</div>"
      ],
      "text/plain": [
       "       time\n",
       "0         0\n",
       "1         3\n",
       "2         6\n",
       "3         9\n",
       "4        12\n",
       "...     ...\n",
       "3969  11907\n",
       "3970  11910\n",
       "3971  11913\n",
       "3972  11916\n",
       "3973  11919\n",
       "\n",
       "[3974 rows x 1 columns]"
      ]
     },
     "execution_count": 25,
     "metadata": {},
     "output_type": "execute_result"
    }
   ],
   "source": [
    "t_resp = 4 * max(-1 / λ)\n",
    "print('Time constants: \\n', -1 / λ, 's \\n')\n",
    "print(f'Settling time: {t_resp:.0f} s = {t_resp / 60:.1f} min \\\n",
    "= {t_resp / (3600):.2f} h = {t_resp / (3600 * 24):.2f} days')\n",
    "\n",
    "duration = 11923          # seconds, larger than response time\n",
    "n = int(np.floor(duration / dt))    # number of time steps\n",
    "t = np.arange(0, n * dt, dt)        # time vector for n time steps\n",
    "\n",
    "print(f'Duration = {duration} s')\n",
    "print(f'Number of time steps = {n}')\n",
    "pd.DataFrame(t, columns=['time'])"
   ]
  },
  {
   "cell_type": "markdown",
   "id": "903d7165-8c66-4fac-90a4-16796542d8d7",
   "metadata": {},
   "source": [
    "#### Input vector\n",
    "In dynamic simulation, the inputs are [time series](https://en.m.wikipedia.org/wiki/Time_series), e.g., the oudoor temperature will have $n$ values $T_o = [T_{o(0)}, T_{o(1)}, ..., T_{o(n-1)}]^T$ at [discrete time](https://en.m.wikipedia.org/wiki/Discrete_time_and_continuous_time#Discrete_time) $t = [t_0, t_1, ... , t_{n-1}]^T$.\n",
    "\n",
    "The input vector $u$ of the state-space representation is obtained by stacking the vectors $b_T$ and $f_Q$ of the system of Differential Algebraic Equations:\n",
    "\n",
    "$$u = \\begin{bmatrix} b_T \\\\ f_Q\\end{bmatrix}$$\n",
    "\n",
    "where:\n",
    "- vector $b_T$ consists of the nonzero elements of vector $b$ of temperature sources; for the circuit presented in Figure 3, \n",
    "\n",
    "$$b = [\\begin{matrix}\n",
    "T_o &0  &0  &0  &0  &0  &0  &0  &T_o  &0  &T_o  &T_{i,sp} \n",
    "\\end{matrix}]^T$$\n",
    "and \n",
    "$$b_T = [T_o, T_o, T_o, T_{i,sp}]^T$$\n",
    "corresponding to branches 0, 8, 10 and 11; \n",
    "- vector $f_Q$ is the nonzero elements of vector $f$ of flow sources; for the circuit presented in Figure 3,\n",
    "\n",
    "$$f = [\\begin{matrix}\n",
    "\\Phi_o &0  &0  &0  &\\Phi_i  &0  &\\dot{Q_a} &\\Phi_a \n",
    "\\end{matrix}]^T$$\n",
    "\n",
    "and\n",
    "\n",
    "$$f_Q = [\\Phi_o, \\Phi_i, \\dot{Q}_a, \\Phi_a]^T$$\n",
    "\n",
    "corresponding to nodes 0, 4, 6, and 7.\n",
    "\n",
    "For the thermal circuit shown in Figure 3, the [time series](https://en.m.wikipedia.org/wiki/Time_series) of the input vector, $u = [u_0, u_1, ... , u_{n-1}]^T$, is:\n",
    "\n",
    "$$u = \n",
    "\\begin{bmatrix}\n",
    "T_o\\\\ \n",
    "T_o\\\\ \n",
    "T_o\\\\ \n",
    "T_{i,sp}\\\\ \n",
    "\\Phi_o\\\\ \n",
    "\\Phi_i\\\\ \n",
    "\\dot{Q}_a\\\\ \n",
    "\\Phi_a\n",
    "\\end{bmatrix}\n",
    "= \\begin{bmatrix}\n",
    "T_{o(0)} & T_{o(1)}& ... & T_{o(n-1)}\\\\ \n",
    "T_{o(0)} & T_{o(1)}& ... & T_{o(n-1)}\\ \\\\ \n",
    "T_{o(0)} & T_{o(1)}& ... & T_{o(n-1)}\\ \\\\ \n",
    " T_{i,sp(0)} & T_{i,sp(1)}& ... & T_{i,sp(n-1)}\\ \\\\ \n",
    "\\Phi_{o,(0)} & \\Phi_{o,(1)} & ... & \\Phi_{o,(n-1)}\\\\\n",
    "\\Phi_{i,(0)} & \\Phi_{i,(1)} & ... & \\Phi_{i,(n-1)}\\\\ \n",
    " \\dot{Q}_{a(0)} & \\dot{Q}_{a(1)} & ... & \\dot{Q}_{a(n-1)}\\\\ \n",
    "\\Phi_{a,(0)} & \\Phi_{a,(1)} & ... & \\Phi_{a,(n-1)}\n",
    "\\end{bmatrix}$$\n",
    "\n",
    "where:\n",
    "- $T_o = [T_{o(0)}, T_{o(1)}, ..., T_{o(n-1)}]^T$ is the [time series](https://en.m.wikipedia.org/wiki/Time_series) of the oudoor temperature at [discrete time](https://en.m.wikipedia.org/wiki/Discrete_time_and_continuous_time#Discrete_time) $t = [t_0, t_1, ... , t_{n-1}]^T$.\n",
    "- $T_{i, sp} = [T_{{i, sp}(0)}, T_{{i, sp}(1)}, ..., T_{{i, sp}(n-1)}]^T$ is the [time series](https://en.m.wikipedia.org/wiki/Time_series) of the setpoint indoor temperature at [discrete time](https://en.m.wikipedia.org/wiki/Discrete_time_and_continuous_time#Discrete_time) $t = [t_0, t_1, ... , t_{n-1}]^T$.\n",
    "- $\\Phi_o = [\\Phi_{o(0)}, \\Phi_{o(1)}, ..., \\Phi_{o(n-1)}]^T$ is the [time series](https://en.m.wikipedia.org/wiki/Time_series) of the solar radiation absorbed by the outdoor surface of the wall at [discrete time](https://en.m.wikipedia.org/wiki/Discrete_time_and_continuous_time#Discrete_time) $t = [t_0, t_1, ... , t_{n-1}]^T$.\n",
    "- $\\Phi_i = [\\Phi_{i(0)}, \\Phi_{i(1)}, ..., \\Phi_{i(n-1)}]^T$ is the [time series](https://en.m.wikipedia.org/wiki/Time_series) of the solar radiation absorbed by the indoor surface of the wall at [discrete time](https://en.m.wikipedia.org/wiki/Discrete_time_and_continuous_time#Discrete_time) $t = [t_0, t_1, ... , t_{n-1}]^T$.\n",
    "- $\\dot{Q}_a = [\\dot{Q}_{a(0)}, \\dot{Q}_{a(1)}, ..., \\dot{Q}_{a(n-1)}]^T$ is the [time series](https://en.m.wikipedia.org/wiki/Time_series) of the auxiliary heat gains (i.e., occupants, electrical devices, etc.) at [discrete time](https://en.m.wikipedia.org/wiki/Discrete_time_and_continuous_time#Discrete_time) $t = [t_0, t_1, ... , t_{n-1}]^T$.\n",
    "- $\\Phi_a = [\\Phi_{a(0)}, \\Phi_{a(1)}, ..., \\Phi_{a(n-1)}]^T$ is the [time series](https://en.m.wikipedia.org/wiki/Time_series) of the solar radiation absorbed by the glass at [discrete time](https://en.m.wikipedia.org/wiki/Discrete_time_and_continuous_time#Discrete_time) $t = [t_0, t_1, ... , t_{n-1}]^T$.\n",
    "\n",
    "Let's consider a step response in the conditions used for steady-state analysis, i.e. $T_o = 10 \\, \\mathrm{^\\circ C}$, $T_{i,sp} = 20 \\, \\mathrm{^\\circ C}$, and all the flow sources zero."
   ]
  },
  {
   "cell_type": "code",
   "execution_count": 26,
   "id": "9acd95e1-ed7a-4ab3-bb66-152121e305a9",
   "metadata": {},
   "outputs": [
    {
     "name": "stdout",
     "output_type": "stream",
     "text": [
      "u = \n"
     ]
    },
    {
     "data": {
      "text/html": [
       "<div>\n",
       "<style scoped>\n",
       "    .dataframe tbody tr th:only-of-type {\n",
       "        vertical-align: middle;\n",
       "    }\n",
       "\n",
       "    .dataframe tbody tr th {\n",
       "        vertical-align: top;\n",
       "    }\n",
       "\n",
       "    .dataframe thead th {\n",
       "        text-align: right;\n",
       "    }\n",
       "</style>\n",
       "<table border=\"1\" class=\"dataframe\">\n",
       "  <thead>\n",
       "    <tr style=\"text-align: right;\">\n",
       "      <th></th>\n",
       "      <th>0</th>\n",
       "      <th>1</th>\n",
       "      <th>2</th>\n",
       "      <th>3</th>\n",
       "      <th>4</th>\n",
       "      <th>5</th>\n",
       "      <th>6</th>\n",
       "      <th>7</th>\n",
       "      <th>8</th>\n",
       "      <th>9</th>\n",
       "      <th>...</th>\n",
       "      <th>3964</th>\n",
       "      <th>3965</th>\n",
       "      <th>3966</th>\n",
       "      <th>3967</th>\n",
       "      <th>3968</th>\n",
       "      <th>3969</th>\n",
       "      <th>3970</th>\n",
       "      <th>3971</th>\n",
       "      <th>3972</th>\n",
       "      <th>3973</th>\n",
       "    </tr>\n",
       "  </thead>\n",
       "  <tbody>\n",
       "    <tr>\n",
       "      <th>0</th>\n",
       "      <td>80.0</td>\n",
       "      <td>80.0</td>\n",
       "      <td>80.0</td>\n",
       "      <td>80.0</td>\n",
       "      <td>80.0</td>\n",
       "      <td>80.0</td>\n",
       "      <td>80.0</td>\n",
       "      <td>80.0</td>\n",
       "      <td>80.0</td>\n",
       "      <td>80.0</td>\n",
       "      <td>...</td>\n",
       "      <td>80.0</td>\n",
       "      <td>80.0</td>\n",
       "      <td>80.0</td>\n",
       "      <td>80.0</td>\n",
       "      <td>80.0</td>\n",
       "      <td>80.0</td>\n",
       "      <td>80.0</td>\n",
       "      <td>80.0</td>\n",
       "      <td>80.0</td>\n",
       "      <td>80.0</td>\n",
       "    </tr>\n",
       "  </tbody>\n",
       "</table>\n",
       "<p>1 rows × 3974 columns</p>\n",
       "</div>"
      ],
      "text/plain": [
       "   0     1     2     3     4     5     6     7     8     9     ...  3964  \\\n",
       "0  80.0  80.0  80.0  80.0  80.0  80.0  80.0  80.0  80.0  80.0  ...  80.0   \n",
       "\n",
       "   3965  3966  3967  3968  3969  3970  3971  3972  3973  \n",
       "0  80.0  80.0  80.0  80.0  80.0  80.0  80.0  80.0  80.0  \n",
       "\n",
       "[1 rows x 3974 columns]"
      ]
     },
     "execution_count": 26,
     "metadata": {},
     "output_type": "execute_result"
    }
   ],
   "source": [
    "u = 80*np.ones([1, n])      # Tisp = 20 for n time steps\n",
    "print('u = ')\n",
    "pd.DataFrame(u)"
   ]
  },
  {
   "cell_type": "markdown",
   "id": "b723d69d-7bc8-45bc-be8c-37334ce53329",
   "metadata": {},
   "source": [
    "#### Time integration"
   ]
  },
  {
   "cell_type": "markdown",
   "id": "cabe4a1a-3c80-4969-bf12-e6f144a5c66b",
   "metadata": {},
   "source": [
    "By integrating the state-space model\n",
    "\n",
    "$$\\left\\{\\begin{array}{rr}\n",
    "\\dot{\\theta}_C=A_s \\theta_C + B_s u\\\\ \n",
    "y = C_s \\theta_C + D_s u\n",
    "\\end{array}\\right.$$\n",
    "\n",
    "by using [Euler forward (or explicit) method](https://en.m.wikipedia.org/wiki/Numerical_methods_for_ordinary_differential_equations#Euler_method) for numerical integration:\n",
    "\n",
    "$$ \\theta_{s,k+1} = (I + \\Delta t A) \\theta_{s,k} + \\Delta t B u_k $$\n",
    "\n",
    "and [Euler backward (or implicit) method](https://en.m.wikipedia.org/wiki/Numerical_methods_for_ordinary_differential_equations#Backward_Euler_method) for numerical integration:\n",
    "\n",
    "$$\\theta_{s,k+1} = (I - \\Delta t A)^{-1} ( \\theta_{s,k} + \\Delta t B u_k )$$\n",
    "\n",
    "where $k = 0, ... , n - 1$,"
   ]
  },
  {
   "cell_type": "code",
   "execution_count": 27,
   "id": "96e94801-c4a8-441a-bc15-ed4bd5f9d9a6",
   "metadata": {},
   "outputs": [],
   "source": [
    "n_s = As_solid.shape[0]                      # number of state variables\n",
    "θ_exp = 20*np.ones([n_s, t.shape[0]])    # explicit Euler in time t\n",
    "θ_imp = 20*np.ones([n_s, t.shape[0]])    # implicit Euler in time t\n",
    "\n",
    "I = np.eye(n_s)                        # identity matrix\n",
    "\n",
    "for k in range(n - 1):\n",
    "    if θ_exp[n0-3, k] < Tmelt-1:\n",
    "        θ_exp[:, k + 1] = (I + dt * As_solid) @\\\n",
    "            θ_exp[:, k] + dt * Bs_solid @ u[:, k]\n",
    "        θ_imp[:, k + 1] = np.linalg.inv(I - dt * As_solid) @\\\n",
    "            (θ_imp[:, k] + dt * Bs_solid @ u[:, k])\n",
    "    if θ_exp[n0-3, k] > Tmelt+1:\n",
    "        θ_exp[:, k + 1] = (I + dt * As_liquid) @\\\n",
    "            θ_exp[:, k] + dt * Bs_liquid @ u[:, k]\n",
    "        θ_imp[:, k + 1] = np.linalg.inv(I - dt * As_liquid) @\\\n",
    "            (θ_imp[:, k] + dt * Bs_liquid @ u[:, k])\n",
    "    else: \n",
    "        θ_exp[:, k + 1] = (I + dt * As_pc) @\\\n",
    "            θ_exp[:, k] + dt * Bs_pc @ u[:, k]\n",
    "        θ_imp[:, k + 1] = np.linalg.inv(I - dt * As_pc) @\\\n",
    "            (θ_imp[:, k] + dt * Bs_pc @ u[:, k])"
   ]
  },
  {
   "cell_type": "markdown",
   "id": "b4fd75ab-ecbb-4df9-92dd-58e184550396",
   "metadata": {},
   "source": [
    "we obtain the outputs\n",
    "\n",
    "$$ y = C_s \\theta_s + D_s u$$\n",
    "\n",
    "for explicit and for implicit Euler methods, respectively."
   ]
  },
  {
   "cell_type": "code",
   "execution_count": 28,
   "id": "2f976ee6-cf60-4852-a7e4-acb3b235e333",
   "metadata": {},
   "outputs": [],
   "source": [
    "y_exp = Cs_solid @ θ_exp + Ds_solid @  u\n",
    "y_imp = Cs_solid @ θ_imp + Ds_solid @  u"
   ]
  },
  {
   "cell_type": "code",
   "execution_count": 29,
   "id": "afbda20f-b7f3-48da-912a-3e4c1bb686a2",
   "metadata": {},
   "outputs": [
    {
     "data": {
      "image/png": "[encoded data removed]",
      "text/plain": [
       "<Figure size 432x288 with 1 Axes>"
      ]
     },
     "metadata": {
      "needs_background": "light"
     },
     "output_type": "display_data"
    }
   ],
   "source": [
    "\n",
    "fig, ax = plt.subplots()\n",
    "ax.plot(t / 3600, y_exp.T, t / 3600, y_imp.T)\n",
    "ax.set(xlabel='Time [h]',\n",
    "       ylabel='$T_i$ [°C]',\n",
    "       title='Step input: To')\n",
    "ax.legend(['Implicit', 'Explicit'])\n",
    "plt.show()\n"
   ]
  },
  {
   "cell_type": "code",
   "execution_count": null,
   "id": "28e31dd3-de74-4c9e-bd4f-71d304e10fe0",
   "metadata": {},
   "outputs": [],
   "source": []
  }
 ],
 "metadata": {
  "kernelspec": {
   "display_name": "Python 3 (ipykernel)",
   "language": "python",
   "name": "python3"
  },
  "language_info": {
   "codemirror_mode": {
    "name": "ipython",
    "version": 3
   },
   "file_extension": ".py",
   "mimetype": "text/x-python",
   "name": "python",
   "nbconvert_exporter": "python",
   "pygments_lexer": "ipython3",
   "version": "3.9.12"
  }
 },
 "nbformat": 4,
 "nbformat_minor": 5
}
